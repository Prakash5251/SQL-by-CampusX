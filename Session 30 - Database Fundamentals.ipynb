{
 "cells": [
  {
   "cell_type": "markdown",
   "id": "ee72010c",
   "metadata": {},
   "source": [
    "# --------------------------------------------------------------------------------------\n",
    "# Session 30 - Database Fundamentals\n",
    "\n",
    "  - Video URL: https://youtu.be/CTLwYjh92xw\n",
    "  - Notes: https://drive.google.com/file/d/1mSKBgj5OoQrEbGoV1cSabaHtNNLZIf_n/view  \n",
    "# --------------------------------------------------------------------------------------"
   ]
  },
  {
   "cell_type": "markdown",
   "id": "09c42993",
   "metadata": {},
   "source": [
    " ### Databases:\n",
    "\n",
    " - A database is a shared collection of logically related data and description of these data, designed to meet the information needs of an organization.  \n",
    " \n",
    "  ### Data Storage: \n",
    "   - A database is used to store large amounts of structured data, making it easily accessible, searchable, and retrievable.\n",
    "\n",
    "  ### Data Analysis: \n",
    "   - A database can be used to perform complex data analysis, generate reports, and provide insights into the data.\n",
    "   \n",
    "  ### Record Keeping: \n",
    "   - A database is often used to keep track of important records, such as financial transactions, customer information, and inventory levels.\n",
    "   \n",
    "  ### Web Applications: \n",
    "   - Databases are an essential component of many web applications, providing dynamic content and user management."
   ]
  },
  {
   "cell_type": "markdown",
   "id": "a7574879",
   "metadata": {},
   "source": [
    "### Properties of an Ideal Database\n",
    "\n",
    " - 1. Integrity\n",
    " - 2. Availability\n",
    " - 3. Security\n",
    " - 4. Independent of Application\n",
    " - 5. Concurrency"
   ]
  },
  {
   "cell_type": "markdown",
   "id": "eae97d12",
   "metadata": {},
   "source": [
    "### Types of Databases: \n",
    "\n",
    "   - 1. Relational Databases -  \n",
    "           - Also known as SQL databases, these databases use a relational model to organize data into tables with rows and columns. \n",
    "           \n",
    "   - 2. NoSQL Databases -  \n",
    "           - These databases are designed to handle large amounts of unstructured or semi-structured data, such as documents, images, or videos. (MongoDB).  \n",
    "\n",
    "   -  3. Column Databases -  \n",
    "           - These databases store data in columns rather than rows, making them well-suited for data warehousing and analytical applications. (Amazon Redshift, Google BigQuery).\n",
    "           \n",
    "   - 4. Graph Databases -  \n",
    "           - These databases are used to store and query graph-structured data, such as social network connections or recommendation systems. (Neo4j, Amazon Neptune).  \n",
    "\n",
    "   - 5. Key-value databases -   \n",
    "           - These databases store data as a collection of keys and values, making them well-suited for caching and simple data storage needs (Redis and Amazon DynamoDB)."
   ]
  },
  {
   "cell_type": "markdown",
   "id": "8bc152a6",
   "metadata": {},
   "source": [
    "### DBMS: \n",
    "  \n",
    "  -  A database management system (DBMS) is a software system that provides the interfaces and tools needed to store, organize, and manage data in a database. A DBMS acts as an intermediary between the database and the applications or users that access the data stored in the database."
   ]
  },
  {
   "cell_type": "markdown",
   "id": "8a83b752",
   "metadata": {},
   "source": [
    "### Core Function of a DBMS:  \n",
    "\n",
    "  - Data Management - Store, retrieve and modify data\n",
    "  - Integrity - Maintain accuracy of data\n",
    "  - Concurrency - Simultaneous data access for multiple users\n",
    "  - Transaction - Modification to database must either be successful or must not happen at all\n",
    "  - Security - Access to authorized users only\n",
    "  - Utilities - Data import/export, user management, backup, logging"
   ]
  },
  {
   "cell_type": "markdown",
   "id": "68eb6f67",
   "metadata": {},
   "source": [
    "### Database Keys:\n",
    "\n",
    "  - A key in a database is an attribute or a set of attributes that uniquely identifies a tuple (row) in a table. Keys play a crucial role in ensuring the integrity and reliability of a database by enforcing unique constraints on the data and establishing relationships between tables.\n",
    "  \n",
    "      - 1. Super Key -\n",
    "              - A Super key is a combination of columns that uniquely identifies any row within a relational database management system (RDBMS) table.\n",
    "              - It may contain more columns than necessary to form a candidate key.\n",
    "               \n",
    "      - 2. Candidate key - \n",
    "              - A candidate key is a set of one or more columns that can uniquely identify a record.\n",
    "              - From the candidate keys, one is chosen as the primary key.\n",
    "              - A candidate key is a minimal Super key, meaning it has no redundant attributes. In other words, it's the smallest set of attributes that can be used to uniquely identify a tuple (row) in the table.\n",
    "\n",
    "      - 3. Primary Key -  \n",
    "              - A primary key uniquely identifies each record (tuple) in a table. \n",
    "              - It must contain unique values and cannot have NULL values. \n",
    "              - Each table can have only one primary key.\n",
    "              \n",
    "               \n",
    "      - 4. Alternate Key -  \n",
    "              - An alternate key is a candidate key that is not chosen/used as the primary key.\n",
    "               \n",
    "      - 5. Composite Key -  \n",
    "              - A composite key is a primary key that is made up of two or more attributes. \n",
    "              - A composite key is a combination of two or more columns that together uniquely identify a record.\n",
    "              - Unlike a primary key, the individual columns in a composite key may not be unique.\n",
    "               \n",
    "       -  6. Surrogate Key -  \n",
    "              - A surrogate key is an artificially generated key, often a numeric or alphanumeric identifier.\n",
    "              - It is used as the primary key, providing a simple and efficient way to identify records.\n",
    "       \n",
    "       -  7. Foreign Key -  \n",
    "                - A foreign key establishes a link between two tables.\n",
    "                - It refers to the primary key of another table and is used to create relationships between tables.\n",
    "                - It ensures referential integrity, maintaining consistency between related tables.      \n",
    "                \n",
    "       - Natural Key:    \n",
    "           - A natural key is a key that is derived from the natural characteristics of the data, such as a person's Social Security Number or an employee's ID.   \n"
   ]
  },
  {
   "cell_type": "markdown",
   "id": "cf6a45eb",
   "metadata": {},
   "source": [
    "### Cardinality of Relationships: \n",
    "\n",
    "-  Cardinality in database relationships refers to the number of occurrences of an entity in a relationship with another entity. Cardinality defines the number of instances of one entity that can be associated with a single instance of the related entity.   \n",
    "   \n",
    "\n",
    "   - Type of Relationships: \n",
    "   \n",
    "      - 1:1 -> One-to-One Relationship\n",
    "           - In a one-to-one relationship, each record in the first table is related to one and only one record in the second table, and vice versa.  \n",
    "           - This type of relationship is relatively rare in database design.   \n",
    "           \n",
    "      - 1:N -> One-to-Many Relationship  \n",
    "           - In a one-to-many relationship, a record in the first table can be related to multiple records in the second table, but each record in the second table is related to only one record in the first table.\n",
    "           - This is the most common type of relationship.\n",
    "          \n",
    "      - N:1 -> Many-to-One Relationship   \n",
    "           - In a many-to-one relationship, multiple records in the first table can be related to a single record in the second table.\n",
    "           - This is essentially the reverse of a one-to-many relationship.\n",
    "      \n",
    "      - N:N -> Many-to-Many Relationship   \n",
    "           - In a many-to-many relationship, multiple records in the first table can be related to multiple records in the second table, and vice versa.\n",
    "           - To represent a many-to-many relationship, an intermediary table (junction table) is often used to break it down into two one-to-many relationships."
   ]
  },
  {
   "cell_type": "markdown",
   "id": "872d4e8e",
   "metadata": {},
   "source": [
    "### Drawbacks of Databases:  \n",
    "\n",
    "- Complexity: \n",
    "   - Setting up and maintaining a database can be complex and time-consuming, especially for large and complex systems. \n",
    "   \n",
    "- Cost:  \n",
    "   - The cost of setting up and maintaining a database, including hardware, software, and personnel, can be high.  \n",
    "\n",
    "- Scalability: \n",
    "   - As the amount of data stored in a database grows, it can become more difficult to manage, leading to performance and scalability issues.  \n",
    "   \n",
    "- Data Integrity: \n",
    "   - Ensuring the accuracy and consistency of data stored in a database can be a challenge, especially when multiple users are updating the data simultaneously. \n",
    "   \n",
    "- Security: \n",
    "   - Securing a database from unauthorized access and protecting sensitive information can be difficult, especially with the increasing threat of cyber attacks.  \n",
    "\n",
    "- Data Migration:  \n",
    "   - Moving data from one database to another or upgrading to a new database can be a complex and time-consuming process.  \n",
    "   \n",
    "- Flexibility: \n",
    "   - The structure of a database is often rigid and inflexible, making it difficult to adapt to changing requirements or to accommodate new types of data."
   ]
  },
  {
   "cell_type": "markdown",
   "id": "40506ce8",
   "metadata": {},
   "source": [
    "# --------------------------------------------------------------------------------------\n",
    " - #### Tasks of Session 30:  Not Applicable for this Session\n",
    "    - Other Reference Notes: https://dataschool.com/data-modeling-101/row-vs-column-oriented-databases/\n",
    "    - Other Notes: https://www.crio.do/blog/what-is-redis/\n",
    "# -------------------------------------------------------------------------------------- "
   ]
  }
 ],
 "metadata": {
  "kernelspec": {
   "display_name": "Python 3 (ipykernel)",
   "language": "python",
   "name": "python3"
  },
  "language_info": {
   "codemirror_mode": {
    "name": "ipython",
    "version": 3
   },
   "file_extension": ".py",
   "mimetype": "text/x-python",
   "name": "python",
   "nbconvert_exporter": "python",
   "pygments_lexer": "ipython3",
   "version": "3.10.9"
  }
 },
 "nbformat": 4,
 "nbformat_minor": 5
}
